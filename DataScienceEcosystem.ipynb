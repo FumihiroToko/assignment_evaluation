{
  "metadata": {
    "language_info": {
      "codemirror_mode": {
        "name": "python",
        "version": 3
      },
      "file_extension": ".py",
      "mimetype": "text/x-python",
      "name": "python",
      "nbconvert_exporter": "python",
      "pygments_lexer": "ipython3",
      "version": "3.8"
    },
    "kernelspec": {
      "name": "python",
      "display_name": "Python (Pyodide)",
      "language": "python"
    }
  },
  "nbformat_minor": 4,
  "nbformat": 4,
  "cells": [
    {
      "cell_type": "code",
      "source": "Excercise 2\n# Data Science Tools and Ecosystem\n\nExcercise 3\nIn this notebook, Data Science Tools and Ecosystem are summarized.\n\nExcercise 4\nSome of the popular languages that Data Scientists use are:\n\n1.Python\n2.R\n3.SQL\n\nExcercise 5\nSome of the commonly used libraries used by Data Scientits include:\n1.Pandas\n2.Numpy\n3.Matplotlib\n4.Scikit-learn\n5.TensorFlow\n\nExcercise 6\n| Data Science Tools   |\n|----------------------|\n| Jupyter Notebooks    |\n| RStudio              |\n| Apache Zeppelin      |\n\n\nExcercise 7\n### Below are a few examples of evaluating arithmetic expressions in Python.\n\nExcercise 10\n\nObjectives:\n\n- List popular languages for Data Science.\n- Describe commonly used libraries in Data Science.\n- Introduce examples of arithmetic expressions in Python.\n- Demonstrate conversion of minutes to hours.\n- Showcase creation of tables and ordered lists in markdown.\n\n\n## Author\nFumihiro Toko\n",
      "metadata": {
        "trusted": true
      },
      "execution_count": 11,
      "outputs": [
        {
          "ename": "<class 'SyntaxError'>",
          "evalue": "invalid decimal literal (<ipython-input-11-188ad20943b6>, line 10)",
          "traceback": [
            "\u001b[0;36m  Cell \u001b[0;32mIn[11], line 10\u001b[0;36m\u001b[0m\n\u001b[0;31m    1.Python\u001b[0m\n\u001b[0m     ^\u001b[0m\n\u001b[0;31mSyntaxError\u001b[0m\u001b[0;31m:\u001b[0m invalid decimal literal\n"
          ],
          "output_type": "error"
        }
      ]
    },
    {
      "cell_type": "code",
      "source": "# This is a simple arithmetic expression to multiply then add integers.\nresult = (3 * 4) + 5\nresult",
      "metadata": {
        "trusted": true
      },
      "execution_count": 13,
      "outputs": [
        {
          "execution_count": 13,
          "output_type": "execute_result",
          "data": {
            "text/plain": "17"
          },
          "metadata": {}
        }
      ]
    },
    {
      "cell_type": "code",
      "source": "# Converting 200 minutes to hours\nminutes = 200\nhours = minutes / 60\nhours\n",
      "metadata": {
        "trusted": true
      },
      "execution_count": 14,
      "outputs": [
        {
          "execution_count": 14,
          "output_type": "execute_result",
          "data": {
            "text/plain": "3.3333333333333335"
          },
          "metadata": {}
        }
      ]
    },
    {
      "cell_type": "code",
      "source": "",
      "metadata": {},
      "execution_count": null,
      "outputs": []
    }
  ]
}